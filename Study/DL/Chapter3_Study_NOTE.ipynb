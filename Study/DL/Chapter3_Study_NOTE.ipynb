{
 "cells": [
  {
   "cell_type": "markdown",
   "metadata": {},
   "source": [
    "# Chapter 3. 신경망\n"
   ]
  },
  {
   "cell_type": "markdown",
   "metadata": {},
   "source": [
    "* 앞 장에서의 퍼셉트론은 가중치를 설정하는 작업(원하는 결과를 출력하도록 가중치 값을 적절히 정하는 작업)은 여전히 사람이 수동으로 해야한다.\n",
    "\n",
    "--> 신경망은 가중치 매개변수의 적절한 값을 데이터로부터 자동으로 학습하는 능력이 있어, 사람이 수동으로 정해주지 않아도 된다.\n",
    " \n",
    " \n",
    "* 이번 장: 1. 신경망의 개요 설명 \n",
    "         2.신경망 입력 데이터가 무엇인지 식별하는 처리 과정"
   ]
  },
  {
   "cell_type": "markdown",
   "metadata": {},
   "source": [
    "## 3.1 퍼셉트론에서 신경망으로 "
   ]
  },
  {
   "cell_type": "markdown",
   "metadata": {},
   "source": [
    "### 3.1.1 신경망의 예"
   ]
  },
  {
   "cell_type": "markdown",
   "metadata": {},
   "source": [
    "<img src=\"https://github.com/duaibeom/lcbc/blob/master/Study/DL/image_/e%203.1.png" width=220>"
   ]
  },
  {
   "cell_type": "markdown",
   "metadata": {},
   "source": [
    "* 입력층, 은닉층 , 출력층 순서로 0층, 1층, 2층\n",
    "\n",
    "* 가중치를 갖는 층은 2개 뿐이므로 '2층 신경망'이라 명시\n",
    " \n",
    " * 문헌에 따라서는 신경망을 구성하는 층 수 기준으로 '3층 신경망'이라고 하는 경우도 있다.\n",
    "\n",
    "* 뉴런이 연결되는 방식은 앞 장의 퍼셉트론과 달라진 점이 없다."
   ]
  },
  {
   "cell_type": "markdown",
   "metadata": {},
   "source": [
    "### 3.1.2 퍼셉트론 복습\n"
   ]
  },
  {
   "cell_type": "markdown",
   "metadata": {},
   "source": [
    "<img src=\"./image_/fig 3-2.png\" width=220>"
   ]
  },
  {
   "cell_type": "markdown",
   "metadata": {},
   "source": [
    "* x1, x2를 입력받아 y를 출력하는 퍼셉트론\n",
    "\n",
    "* 이러한 퍼셉트론을 수식으로 나타내면:"
   ]
  },
  {
   "cell_type": "markdown",
   "metadata": {},
   "source": [
    "<img src=\"./image_/e 3.1.png\" width=220>"
   ]
  },
  {
   "cell_type": "markdown",
   "metadata": {},
   "source": [
    "* b = 편향을 나타내는 매개변수 --> 뉴런이 얼마나 쉽게 활성화 되느냐 \n",
    "\n",
    "* w1,w2 = 각 신호의 가중치를 나타내는 매개변수 --> 각 신호의 영향력 제어"
   ]
  },
  {
   "cell_type": "markdown",
   "metadata": {},
   "source": [
    "<img src=\"./image_/fig 3-3.png\" width=220>"
   ]
  },
  {
   "cell_type": "markdown",
   "metadata": {},
   "source": [
    "* **편향을 명시**한 퍼셉트론\n",
    "\n",
    "* 가중치 : b, 입력 : 1 인 뉴런이 추가됨.\n",
    "\n",
    "* x1, x2, 1 3개의 신호가 뉴런에 입력됨 --> 각 신호에 가중치 곱 --> 다음 뉴런에 전달\n",
    "(편향의 입력 신호 = 1)"
   ]
  },
  {
   "cell_type": "markdown",
   "metadata": {},
   "source": [
    "<img src=\"./image_/e 3.2.png\" width=220>"
   ]
  },
  {
   "cell_type": "markdown",
   "metadata": {},
   "source": [
    "<img src=\"./image_/e 3.3.png\" width=220>"
   ]
  },
  {
   "cell_type": "markdown",
   "metadata": {},
   "source": [
    "* 0을 넘으면 1을 출력, 그렇지 않으면 0을 출력하는 것을 하나의 함수(h(x))로 나타냄."
   ]
  },
  {
   "cell_type": "markdown",
   "metadata": {},
   "source": [
    "### 3.1.3 활성화 함수의 등장"
   ]
  },
  {
   "cell_type": "markdown",
   "metadata": {},
   "source": [
    "* **활성화 함수(activation function)**: \n",
    " * 입력신호의 총합을 출력 신호로 변환하는 함수,\n",
    "  * 입력신호의 총합이 활성화를 일으키는지 정하는 역할"
   ]
  },
  {
   "cell_type": "markdown",
   "metadata": {},
   "source": [
    "<img src=\"./image_/e 3.4.png\" width=220>"
   ]
  },
  {
   "cell_type": "markdown",
   "metadata": {},
   "source": [
    "<img src=\"./image_/e 3.5.png\" width=220>"
   ]
  },
  {
   "cell_type": "markdown",
   "metadata": {},
   "source": [
    "*a --> h라는 함수에 넣어 y를 출력하는 흐름\n",
    "\n",
    "* a = 가중치가 달린 입력 신호와 편향의 총합"
   ]
  },
  {
   "cell_type": "markdown",
   "metadata": {},
   "source": [
    "<img src=\"./image_/fig 3-4.png\" width=220>"
   ]
  },
  {
   "cell_type": "markdown",
   "metadata": {},
   "source": [
    "* 가중치 신호 조합한 결과(a 노드) --> 활성화 함수(h()) 통과 --> y 노드로 변환\n",
    "\n",
    "*(뉴런 = 노드)"
   ]
  },
  {
   "cell_type": "markdown",
   "metadata": {},
   "source": [
    "<img src=\"./image_/fig 3-5.png\" width=520>"
   ]
  },
  {
   "cell_type": "markdown",
   "metadata": {},
   "source": [
    "* 왼쪽 : 일반 뉴런         \n",
    "* 오른쪽 : 활성화 처리 과정을 명시한 뉴런"
   ]
  },
  {
   "cell_type": "markdown",
   "metadata": {},
   "source": [
    "## 3.2 활성화 함수"
   ]
  },
  {
   "cell_type": "markdown",
   "metadata": {},
   "source": [
    "### 3.2.1 시그모이드 함수"
   ]
  },
  {
   "cell_type": "markdown",
   "metadata": {},
   "source": [
    "* **시그모이드 함수(sigmoid function)** : 신경망에서 자주 이용하는 활성화 함수 "
   ]
  },
  {
   "cell_type": "markdown",
   "metadata": {},
   "source": [
    "<img src=\"./image_/e 3.6.png\" width=320>"
   ]
  },
  {
   "cell_type": "markdown",
   "metadata": {},
   "source": [
    "* e = (자연 상수) 2.7182..\n",
    "\n",
    "*시그모이드 함수 역시 입력을 주면 출력을 돌려주는 단순한 '함수'이다!\n",
    "ex) h(1.0) = 0.731..., h(2.0) = 0.880..."
   ]
  },
  {
   "cell_type": "markdown",
   "metadata": {},
   "source": [
    "**\n",
    "* **신경망** : 활성화 함수 --> **시그모이드 함수**, 신호 변환 --> 변환된 신호 다음 뉴런에 전달\n",
    "\n",
    "* **앞 장의 퍼셉트론** : 활성화 함수 --> **계단 함수**"
   ]
  },
  {
   "cell_type": "markdown",
   "metadata": {},
   "source": [
    "### 3.2.2 계단 함수 구현하기"
   ]
  },
  {
   "cell_type": "markdown",
   "metadata": {},
   "source": [
    "* 계단 함수: 입력이 0을 넘으면 1을 출력하고, 그 외에는 0을 출력하는 함수"
   ]
  },
  {
   "cell_type": "code",
   "execution_count": 1,
   "metadata": {},
   "outputs": [
    {
     "name": "stdout",
     "output_type": "stream",
     "text": [
      "1\n"
     ]
    },
    {
     "ename": "ValueError",
     "evalue": "The truth value of an array with more than one element is ambiguous. Use a.any() or a.all()",
     "output_type": "error",
     "traceback": [
      "\u001b[0;31m---------------------------------------------------------------------------\u001b[0m",
      "\u001b[0;31mValueError\u001b[0m                                Traceback (most recent call last)",
      "\u001b[0;32m<ipython-input-1-963fbf014fe2>\u001b[0m in \u001b[0;36m<module>\u001b[0;34m\u001b[0m\n\u001b[1;32m      7\u001b[0m \u001b[0;34m\u001b[0m\u001b[0m\n\u001b[1;32m      8\u001b[0m \u001b[0;32mimport\u001b[0m \u001b[0mnumpy\u001b[0m \u001b[0;32mas\u001b[0m \u001b[0mnp\u001b[0m\u001b[0;34m\u001b[0m\u001b[0;34m\u001b[0m\u001b[0m\n\u001b[0;32m----> 9\u001b[0;31m \u001b[0mprint\u001b[0m\u001b[0;34m(\u001b[0m\u001b[0mstep_function\u001b[0m\u001b[0;34m(\u001b[0m\u001b[0mnp\u001b[0m\u001b[0;34m.\u001b[0m\u001b[0marray\u001b[0m\u001b[0;34m(\u001b[0m\u001b[0;34m[\u001b[0m\u001b[0;36m1.0\u001b[0m\u001b[0;34m,\u001b[0m\u001b[0;36m2.0\u001b[0m\u001b[0;34m]\u001b[0m\u001b[0;34m)\u001b[0m\u001b[0;34m)\u001b[0m\u001b[0;34m)\u001b[0m  \u001b[0;31m#numpy 배열을 인수로 넣을 수 없다.\u001b[0m\u001b[0;34m\u001b[0m\u001b[0;34m\u001b[0m\u001b[0m\n\u001b[0m",
      "\u001b[0;32m<ipython-input-1-963fbf014fe2>\u001b[0m in \u001b[0;36mstep_function\u001b[0;34m(x)\u001b[0m\n\u001b[1;32m      1\u001b[0m \u001b[0;32mdef\u001b[0m \u001b[0mstep_function\u001b[0m\u001b[0;34m(\u001b[0m\u001b[0mx\u001b[0m\u001b[0;34m)\u001b[0m\u001b[0;34m:\u001b[0m\u001b[0;34m\u001b[0m\u001b[0;34m\u001b[0m\u001b[0m\n\u001b[0;32m----> 2\u001b[0;31m     \u001b[0;32mif\u001b[0m \u001b[0mx\u001b[0m \u001b[0;34m>\u001b[0m \u001b[0;36m0\u001b[0m\u001b[0;34m:\u001b[0m\u001b[0;34m\u001b[0m\u001b[0;34m\u001b[0m\u001b[0m\n\u001b[0m\u001b[1;32m      3\u001b[0m         \u001b[0;32mreturn\u001b[0m \u001b[0;36m1\u001b[0m\u001b[0;34m\u001b[0m\u001b[0;34m\u001b[0m\u001b[0m\n\u001b[1;32m      4\u001b[0m     \u001b[0;32melse\u001b[0m \u001b[0;34m:\u001b[0m\u001b[0;34m\u001b[0m\u001b[0;34m\u001b[0m\u001b[0m\n\u001b[1;32m      5\u001b[0m         \u001b[0;32mreturn\u001b[0m \u001b[0;36m0\u001b[0m\u001b[0;34m\u001b[0m\u001b[0;34m\u001b[0m\u001b[0m\n",
      "\u001b[0;31mValueError\u001b[0m: The truth value of an array with more than one element is ambiguous. Use a.any() or a.all()"
     ]
    }
   ],
   "source": [
    "def step_function(x):\n",
    "    if x > 0:\n",
    "        return 1\n",
    "    else :\n",
    "        return 0\n",
    "print(step_function(3.0)) \n",
    "\n",
    "import numpy as np\n",
    "print(step_function(np.array([1.0,2.0])))  "
   ]
  },
  {
   "cell_type": "markdown",
   "metadata": {},
   "source": [
    "--> numpy 배열을 인수로 넣을 수 없다!"
   ]
  },
  {
   "cell_type": "markdown",
   "metadata": {},
   "source": [
    "* bool type의 y를 0이나 1의 'int형'으로 바꿔줘야 함.\n",
    "\n",
    "*numpy 배열의 자료형을 변환할 때 : astype() "
   ]
  },
  {
   "cell_type": "code",
   "execution_count": 4,
   "metadata": {},
   "outputs": [],
   "source": [
    "def step_function(x):\n",
    "    y = x > 0\n",
    "    return y.astype(np.int)"
   ]
  },
  {
   "cell_type": "code",
   "execution_count": 5,
   "metadata": {},
   "outputs": [
    {
     "data": {
      "text/plain": [
       "array([-1.,  1.,  2.])"
      ]
     },
     "execution_count": 5,
     "metadata": {},
     "output_type": "execute_result"
    }
   ],
   "source": [
    "import numpy as np\n",
    "x = np.array([-1.0,1.0,2.0])\n",
    "x"
   ]
  },
  {
   "cell_type": "code",
   "execution_count": 6,
   "metadata": {},
   "outputs": [
    {
     "data": {
      "text/plain": [
       "array([False,  True,  True])"
      ]
     },
     "execution_count": 6,
     "metadata": {},
     "output_type": "execute_result"
    }
   ],
   "source": [
    "y = x > 0\n",
    "y   #bool type"
   ]
  },
  {
   "cell_type": "code",
   "execution_count": 7,
   "metadata": {},
   "outputs": [
    {
     "data": {
      "text/plain": [
       "array([0, 1, 1])"
      ]
     },
     "execution_count": 7,
     "metadata": {},
     "output_type": "execute_result"
    }
   ],
   "source": [
    "y = y.astype(np.int)\n",
    "y"
   ]
  },
  {
   "cell_type": "markdown",
   "metadata": {},
   "source": [
    "### 3.2.3 계단 함수의 그래프"
   ]
  },
  {
   "cell_type": "code",
   "execution_count": 8,
   "metadata": {},
   "outputs": [],
   "source": [
    "import numpy as np\n",
    "import matplotlib.pylab as plt"
   ]
  },
  {
   "cell_type": "code",
   "execution_count": 11,
   "metadata": {},
   "outputs": [
    {
     "data": {
      "text/plain": [
       "<function matplotlib.pyplot.show(*args, **kw)>"
      ]
     },
     "execution_count": 11,
     "metadata": {},
     "output_type": "execute_result"
    },
    {
     "data": {
      "image/png": "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\n",
      "text/plain": [
       "<Figure size 432x288 with 1 Axes>"
      ]
     },
     "metadata": {
      "needs_background": "light"
     },
     "output_type": "display_data"
    }
   ],
   "source": [
    "def step_function(x):\n",
    "    return np.array(x > 0 , dtype = np.int)\n",
    "\n",
    "x = np.arange(-5.0,5.0,0.1)\n",
    "y = step_function(x)\n",
    "plt.plot(x,y)\n",
    "plt.ylim(-0.1,1.1)\n",
    "plt.show"
   ]
  },
  {
   "cell_type": "markdown",
   "metadata": {},
   "source": [
    "* -5.0에서 5.0전까지 0.1간격의 넘파이 배열을 생성.\n",
    "\n",
    "* 0보다 작을 때는 0을 출력하고, 0보다 클 때는 1을 출력\n",
    "\n",
    "* 계단 모양의 함수!"
   ]
  },
  {
   "cell_type": "markdown",
   "metadata": {},
   "source": [
    "### 3.2.4 시그모이드 함수 구현하기"
   ]
  },
  {
   "cell_type": "code",
   "execution_count": 12,
   "metadata": {},
   "outputs": [],
   "source": [
    "def sigmoid(x):\n",
    "    return 1 / (1+np.exp(-x))"
   ]
  },
  {
   "cell_type": "code",
   "execution_count": 13,
   "metadata": {},
   "outputs": [],
   "source": [
    "x = np.array([-1.0, 1.0, 2.0])"
   ]
  },
  {
   "cell_type": "code",
   "execution_count": 14,
   "metadata": {},
   "outputs": [
    {
     "data": {
      "text/plain": [
       "array([0.26894142, 0.73105858, 0.88079708])"
      ]
     },
     "execution_count": 14,
     "metadata": {},
     "output_type": "execute_result"
    }
   ],
   "source": [
    "sigmoid(x)\n",
    "#인수 x가 넘파이 배열이어도 올바른 결과가 나옴"
   ]
  },
  {
   "cell_type": "markdown",
   "metadata": {},
   "source": [
    "* numpy의 broadcast기능 : 넘파이 배열과 스칼라값의 연산을 넘파이 배열의 원소 각각과 스칼라값의 연산으로 바꿔 수행."
   ]
  },
  {
   "cell_type": "markdown",
   "metadata": {},
   "source": [
    "시그모이드 함수를 그래프로 그려보면,"
   ]
  },
  {
   "cell_type": "code",
   "execution_count": 15,
   "metadata": {},
   "outputs": [
    {
     "data": {
      "image/png": "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\n",
      "text/plain": [
       "<Figure size 432x288 with 1 Axes>"
      ]
     },
     "metadata": {
      "needs_background": "light"
     },
     "output_type": "display_data"
    }
   ],
   "source": [
    "x = np.arange(-5.0, 5.0, 0.1)\n",
    "y = sigmoid(x)\n",
    "plt.plot(x,y)\n",
    "plt.ylim(-0.1, 1.1)\n",
    "plt.show()"
   ]
  },
  {
   "cell_type": "markdown",
   "metadata": {},
   "source": [
    "*'시그모이드 = S자 모양'"
   ]
  },
  {
   "cell_type": "markdown",
   "metadata": {},
   "source": [
    "### 3.2.5 시그모이드 함수와 계단 함수 비교"
   ]
  },
  {
   "cell_type": "markdown",
   "metadata": {},
   "source": [
    "<img src=\"./image_/fig 3-8.png\" width=320>"
   ]
  },
  {
   "cell_type": "markdown",
   "metadata": {},
   "source": [
    "* 시그모이드 함수 : 부드러운 곡선, 입력에 따라 출력이 연속적으로 변화, 실수를 돌려준다\n",
    "\n",
    "* 계단 함수 : 0을 경계로 출력이 갑자기 바뀜, 0,1중 하나의 값만 돌려준다  "
   ]
  },
  {
   "cell_type": "markdown",
   "metadata": {},
   "source": [
    "--> 퍼셉트론의 뉴런 사이에는 0 혹은 1이 흘렀다면, 신경망에서는 연속적인 실수가 흐른다."
   ]
  },
  {
   "cell_type": "markdown",
   "metadata": {},
   "source": [
    "* 공통점 : \n",
    " * 둘 다 입력이 작을 때의 출력은 0에 가깝고, 입력이 커지면 출력이 1에 가까워지는 큰 관점에서 보면 두개의 그래프는 같은 모양을 하고 있다.\n",
    "      --> 입력이 중요하면 큰 값 출력, 중요하지 않으면 작은 값을 출력 & 입력이 아무리 작거나 커도 출력은 0에서 1사이."
   ]
  },
  {
   "cell_type": "markdown",
   "metadata": {},
   "source": [
    "### 3.2.6 비선형 함수"
   ]
  },
  {
   "cell_type": "markdown",
   "metadata": {},
   "source": [
    "* **계단 함수와 시그모이드 함수 둘 다 비선형 함수!**"
   ]
  },
  {
   "cell_type": "markdown",
   "metadata": {},
   "source": [
    "* **함수** :  어떤 값을 입력하면 그에 따른 값을 돌려주는 '변환기'\n",
    "\n",
    " * **선형 함수** : 이 변환기에 무언가 입력했을 때, 출력이 입력의 상수배만큼 변하는 함수, 1개의 직선\n",
    "\n",
    " * **비선형 함수** : 직선 1개로는 그릴 수 없는 함수"
   ]
  },
  {
   "cell_type": "markdown",
   "metadata": {},
   "source": [
    "** **신경망의 활성화 함수로는 비선형 함수를 사용해야한다!**\n",
    " * 예를 들어, h(x) = cx를 활성화 함수로 사용한 3층 네트워크 --> y = h(h(h(x)))가 된다.\n",
    "   이는, y = c*c*cx 이지만, 실은, y = ax와 같다. (a = c^3)\n",
    "   \n",
    "   --> 선형 함수를 이용해서는 여러 층으로 구성하는 이점을 살릴 수 없다. \n",
    "   \n",
    "   --> 층을 쌓는 혜택을 얻고 싶다면 활성화 함수로는 반드시 비선형 함수를 사용해야 한다. "
   ]
  },
  {
   "cell_type": "markdown",
   "metadata": {},
   "source": [
    "** **단순 퍼셉트론** : 단층 네트워크에서 계단 함수(step function, 임계값을 경계로 출력이 바뀌는 함수)를 활성화 함수로 사용한 모델\n",
    "\n",
    "** **다층 퍼셉트론** : 신경망(여러 층으로 구성되고 시그모이드 함수등 매끈한 활성화 함수를 사용하는 네트워크)를 가리킨다."
   ]
  },
  {
   "cell_type": "markdown",
   "metadata": {},
   "source": [
    "### 3.2.7 ReLU함수"
   ]
  },
  {
   "cell_type": "markdown",
   "metadata": {},
   "source": [
    "<img src=\"./image_/fig 3-9.png\" width=320>"
   ]
  },
  {
   "cell_type": "markdown",
   "metadata": {},
   "source": [
    "<img src=\"./image_/e 3.7.png\" width=320>"
   ]
  },
  {
   "cell_type": "markdown",
   "metadata": {},
   "source": [
    "* 최근 신경망 분야에서는 활성화 함수로 **ReLU(Rectified Linear Unit)함수**를 주로 이용한다.\n",
    "\n",
    "* ReLU는 입력이 0을 넘으면 그 입력을 그대로 출력하고, 0 이하이면 0을 출력하는 함수"
   ]
  },
  {
   "cell_type": "code",
   "execution_count": 19,
   "metadata": {},
   "outputs": [],
   "source": [
    "def relu(x):\n",
    "    return np.maximum(0 , x)"
   ]
  },
  {
   "cell_type": "markdown",
   "metadata": {},
   "source": [
    "*numpy의 maximum 함수 : 두 입력 중 큰 값을 선택해 반환하는 함수"
   ]
  },
  {
   "cell_type": "code",
   "execution_count": 20,
   "metadata": {},
   "outputs": [
    {
     "data": {
      "text/plain": [
       "3.0"
      ]
     },
     "execution_count": 20,
     "metadata": {},
     "output_type": "execute_result"
    }
   ],
   "source": [
    "relu(3.0)"
   ]
  },
  {
   "cell_type": "code",
   "execution_count": 21,
   "metadata": {},
   "outputs": [
    {
     "data": {
      "text/plain": [
       "0.0"
      ]
     },
     "execution_count": 21,
     "metadata": {},
     "output_type": "execute_result"
    }
   ],
   "source": [
    "relu(-3.0)"
   ]
  },
  {
   "cell_type": "markdown",
   "metadata": {},
   "source": [
    "## 3.3 다차원 배열의 계산"
   ]
  },
  {
   "cell_type": "markdown",
   "metadata": {},
   "source": [
    "### 3.3.1 다차원 배열"
   ]
  },
  {
   "cell_type": "markdown",
   "metadata": {},
   "source": [
    "* 다차원 배열 : '숫자의 집합' "
   ]
  },
  {
   "cell_type": "code",
   "execution_count": 22,
   "metadata": {},
   "outputs": [],
   "source": [
    "import numpy as np"
   ]
  },
  {
   "cell_type": "code",
   "execution_count": 23,
   "metadata": {},
   "outputs": [],
   "source": [
    "A = np.array([1,2,3,4])"
   ]
  },
  {
   "cell_type": "code",
   "execution_count": 24,
   "metadata": {},
   "outputs": [
    {
     "name": "stdout",
     "output_type": "stream",
     "text": [
      "[1 2 3 4]\n"
     ]
    }
   ],
   "source": [
    "print(A)"
   ]
  },
  {
   "cell_type": "code",
   "execution_count": 29,
   "metadata": {},
   "outputs": [
    {
     "data": {
      "text/plain": [
       "1"
      ]
     },
     "execution_count": 29,
     "metadata": {},
     "output_type": "execute_result"
    }
   ],
   "source": [
    "np.ndim(A)"
   ]
  },
  {
   "cell_type": "markdown",
   "metadata": {},
   "source": [
    "*배열의 차원 수 확인: np.dim() 함수 --> 1차원 배열"
   ]
  },
  {
   "cell_type": "code",
   "execution_count": 26,
   "metadata": {},
   "outputs": [
    {
     "data": {
      "text/plain": [
       "(4,)"
      ]
     },
     "execution_count": 26,
     "metadata": {},
     "output_type": "execute_result"
    }
   ],
   "source": [
    "A.shape"
   ]
  },
  {
   "cell_type": "markdown",
   "metadata": {},
   "source": [
    "*배열의 형상 : (인스턴스 변수) shape --> 원소 4개로 구성 (튜플로 반환 --> 1차원 배열이라도 다차원 배열일 때와 통일된 형태로 결과를 반환하기 위함.)"
   ]
  },
  {
   "cell_type": "code",
   "execution_count": 27,
   "metadata": {},
   "outputs": [
    {
     "data": {
      "text/plain": [
       "4"
      ]
     },
     "execution_count": 27,
     "metadata": {},
     "output_type": "execute_result"
    }
   ],
   "source": [
    "A.shape[0]"
   ]
  },
  {
   "cell_type": "code",
   "execution_count": 31,
   "metadata": {},
   "outputs": [],
   "source": [
    "B = np.array([[1,2],[3,4],[5,6]])"
   ]
  },
  {
   "cell_type": "code",
   "execution_count": 32,
   "metadata": {},
   "outputs": [
    {
     "name": "stdout",
     "output_type": "stream",
     "text": [
      "[[1 2]\n",
      " [3 4]\n",
      " [5 6]]\n"
     ]
    }
   ],
   "source": [
    "print(B)"
   ]
  },
  {
   "cell_type": "code",
   "execution_count": 34,
   "metadata": {},
   "outputs": [
    {
     "data": {
      "text/plain": [
       "2"
      ]
     },
     "execution_count": 34,
     "metadata": {},
     "output_type": "execute_result"
    }
   ],
   "source": [
    "np.ndim(B)"
   ]
  },
  {
   "cell_type": "code",
   "execution_count": 54,
   "metadata": {},
   "outputs": [
    {
     "data": {
      "text/plain": [
       "(3, 2)"
      ]
     },
     "execution_count": 54,
     "metadata": {},
     "output_type": "execute_result"
    }
   ],
   "source": [
    "B.shape"
   ]
  },
  {
   "cell_type": "markdown",
   "metadata": {},
   "source": [
    "* 3x2 배열, 처음 차원(0번째 차원)에는 원소 3개, 다음 차원(1번째 차원)에는 원소 2개 있다는 의미"
   ]
  },
  {
   "cell_type": "markdown",
   "metadata": {},
   "source": [
    "* 2차원 배열은 특히 행렬(matrix)라고 부름\n",
    " * 배열의 가로 방향 : 행\n",
    " * 배열의 세로 방향 : 열"
   ]
  },
  {
   "cell_type": "markdown",
   "metadata": {},
   "source": [
    "<img src=\"./image_/fig 3-10.png\" width=320>"
   ]
  },
  {
   "cell_type": "markdown",
   "metadata": {},
   "source": [
    "### 3.3.2 행렬의 곱"
   ]
  },
  {
   "cell_type": "markdown",
   "metadata": {},
   "source": [
    "<img src=\"./image_/fig 3-11.png\" width=320>"
   ]
  },
  {
   "cell_type": "markdown",
   "metadata": {},
   "source": [
    "* 행렬 곱 : 왼쪽 A 행렬의 행 * 오른쪽 B 행렬의 열을 각 원소 별로 곱하여 그 값들을 다 더해서 --> 새로운 다차원 행렬의 원소가 됨. \n",
    " ex) A의 2행 * B의 1열 = 2행 1열의 원소"
   ]
  },
  {
   "cell_type": "markdown",
   "metadata": {},
   "source": [
    "* shape이 같은 행렬의 곱"
   ]
  },
  {
   "cell_type": "code",
   "execution_count": 55,
   "metadata": {},
   "outputs": [],
   "source": [
    "A = np.array([[1,2] , [3,4]])"
   ]
  },
  {
   "cell_type": "code",
   "execution_count": 56,
   "metadata": {},
   "outputs": [
    {
     "data": {
      "text/plain": [
       "(2, 2)"
      ]
     },
     "execution_count": 56,
     "metadata": {},
     "output_type": "execute_result"
    }
   ],
   "source": [
    "A.shape"
   ]
  },
  {
   "cell_type": "code",
   "execution_count": 57,
   "metadata": {},
   "outputs": [],
   "source": [
    "B = np.array([[5,6], [7,8]])"
   ]
  },
  {
   "cell_type": "code",
   "execution_count": 58,
   "metadata": {},
   "outputs": [
    {
     "data": {
      "text/plain": [
       "(2, 2)"
      ]
     },
     "execution_count": 58,
     "metadata": {},
     "output_type": "execute_result"
    }
   ],
   "source": [
    "B.shape"
   ]
  },
  {
   "cell_type": "code",
   "execution_count": 59,
   "metadata": {},
   "outputs": [
    {
     "data": {
      "text/plain": [
       "array([[19, 22],\n",
       "       [43, 50]])"
      ]
     },
     "execution_count": 59,
     "metadata": {},
     "output_type": "execute_result"
    }
   ],
   "source": [
    "np.dot(A,B)"
   ]
  },
  {
   "cell_type": "markdown",
   "metadata": {},
   "source": [
    "* A,B : 2x2행렬 \n",
    "* 두 행렬의 곱 : np.dot()\n",
    " * 1차원 배열 --> 벡터 곱\n",
    " * 2차원 배열 --> 행렬 곱"
   ]
  },
  {
   "cell_type": "markdown",
   "metadata": {},
   "source": [
    "* shape이 같지 않은 행렬의 곱"
   ]
  },
  {
   "cell_type": "code",
   "execution_count": 60,
   "metadata": {},
   "outputs": [],
   "source": [
    "A = np.array([[1,2,3],[4,5,6]])"
   ]
  },
  {
   "cell_type": "code",
   "execution_count": 61,
   "metadata": {},
   "outputs": [
    {
     "data": {
      "text/plain": [
       "(2, 3)"
      ]
     },
     "execution_count": 61,
     "metadata": {},
     "output_type": "execute_result"
    }
   ],
   "source": [
    "A.shape"
   ]
  },
  {
   "cell_type": "code",
   "execution_count": 62,
   "metadata": {},
   "outputs": [],
   "source": [
    "B = np.array([[1,2],[3,4],[5,6]])"
   ]
  },
  {
   "cell_type": "code",
   "execution_count": 63,
   "metadata": {},
   "outputs": [
    {
     "data": {
      "text/plain": [
       "(3, 2)"
      ]
     },
     "execution_count": 63,
     "metadata": {},
     "output_type": "execute_result"
    }
   ],
   "source": [
    "B.shape"
   ]
  },
  {
   "cell_type": "code",
   "execution_count": 64,
   "metadata": {},
   "outputs": [
    {
     "data": {
      "text/plain": [
       "array([[22, 28],\n",
       "       [49, 64]])"
      ]
     },
     "execution_count": 64,
     "metadata": {},
     "output_type": "execute_result"
    }
   ],
   "source": [
    "np.dot(A,B)"
   ]
  },
  {
   "cell_type": "markdown",
   "metadata": {},
   "source": [
    "*A 행렬의 1번째 차원의 원소 수와 B 행렬의 0번째 차원의 원소 수가 같아야 계산 가능!\n",
    "(둘 다 3개)"
   ]
  },
  {
   "cell_type": "markdown",
   "metadata": {},
   "source": [
    "1  2  3         1  2\n",
    "\n",
    "4  5  6         3  4\n",
    "             \n",
    "                5  6"
   ]
  },
  {
   "cell_type": "markdown",
   "metadata": {},
   "source": [
    "* 실제로 2x3 행렬과 2x2행렬을 곱하면 오류"
   ]
  },
  {
   "cell_type": "code",
   "execution_count": 65,
   "metadata": {},
   "outputs": [],
   "source": [
    "C = np.array([[1,2],[3,4]])"
   ]
  },
  {
   "cell_type": "code",
   "execution_count": 66,
   "metadata": {},
   "outputs": [
    {
     "data": {
      "text/plain": [
       "(2, 2)"
      ]
     },
     "execution_count": 66,
     "metadata": {},
     "output_type": "execute_result"
    }
   ],
   "source": [
    "C.shape"
   ]
  },
  {
   "cell_type": "code",
   "execution_count": 67,
   "metadata": {},
   "outputs": [
    {
     "data": {
      "text/plain": [
       "(2, 3)"
      ]
     },
     "execution_count": 67,
     "metadata": {},
     "output_type": "execute_result"
    }
   ],
   "source": [
    "A.shape"
   ]
  },
  {
   "cell_type": "code",
   "execution_count": 69,
   "metadata": {},
   "outputs": [
    {
     "ename": "ValueError",
     "evalue": "shapes (2,3) and (2,2) not aligned: 3 (dim 1) != 2 (dim 0)",
     "output_type": "error",
     "traceback": [
      "\u001b[0;31m---------------------------------------------------------------------------\u001b[0m",
      "\u001b[0;31mValueError\u001b[0m                                Traceback (most recent call last)",
      "\u001b[0;32m<ipython-input-69-bef0a2d6fb5b>\u001b[0m in \u001b[0;36m<module>\u001b[0;34m\u001b[0m\n\u001b[0;32m----> 1\u001b[0;31m \u001b[0mnp\u001b[0m\u001b[0;34m.\u001b[0m\u001b[0mdot\u001b[0m\u001b[0;34m(\u001b[0m\u001b[0mA\u001b[0m\u001b[0;34m,\u001b[0m\u001b[0mC\u001b[0m\u001b[0;34m)\u001b[0m\u001b[0;34m\u001b[0m\u001b[0;34m\u001b[0m\u001b[0m\n\u001b[0m",
      "\u001b[0;31mValueError\u001b[0m: shapes (2,3) and (2,2) not aligned: 3 (dim 1) != 2 (dim 0)"
     ]
    }
   ],
   "source": [
    "np.dot(A,C)"
   ]
  },
  {
   "cell_type": "markdown",
   "metadata": {},
   "source": [
    "--> 따라서, 다차원 배열을 곱하려면 두 행렬의 대응하는 차원의 원소 수가 같아야 한다. "
   ]
  },
  {
   "cell_type": "markdown",
   "metadata": {},
   "source": [
    "<img src=\"./image_/fig 3-12.png\" width=320>"
   ]
  },
  {
   "cell_type": "markdown",
   "metadata": {},
   "source": [
    "* 3x2 행렬 A와 2x4 행렬 B를 곱해 3x4 행렬을 C를 만듬\n",
    "* 행렬 A와 B의 대응하는 차원의 원소 수가 같아야 한다.\n",
    " * A의 1차원 원소 수: 2 == B의 0차원 원소 수 : 2\n",
    "* 계산 결과인 행렬 C의 shape : 행렬 A의 행 수와 행렬 B의 열 수 "
   ]
  },
  {
   "cell_type": "markdown",
   "metadata": {},
   "source": [
    "<img src=\"./image_/fig 3-13.png\" width=320>"
   ]
  },
  {
   "cell_type": "markdown",
   "metadata": {},
   "source": [
    "* A가 2차원 행렬, B가 1차원 배열일 때도 대응하는 차원의 원소 수를 일치시켜야 한다!"
   ]
  },
  {
   "cell_type": "markdown",
   "metadata": {},
   "source": [
    "* 위의 예를 파이썬으로 구현시켜보면,"
   ]
  },
  {
   "cell_type": "code",
   "execution_count": 2,
   "metadata": {},
   "outputs": [],
   "source": [
    "A = np.array([[1,2],[3,4],[5,6]])"
   ]
  },
  {
   "cell_type": "code",
   "execution_count": 3,
   "metadata": {},
   "outputs": [
    {
     "data": {
      "text/plain": [
       "(3, 2)"
      ]
     },
     "execution_count": 3,
     "metadata": {},
     "output_type": "execute_result"
    }
   ],
   "source": [
    "A.shape"
   ]
  },
  {
   "cell_type": "code",
   "execution_count": 4,
   "metadata": {},
   "outputs": [],
   "source": [
    "B = np.array([7,8])"
   ]
  },
  {
   "cell_type": "code",
   "execution_count": 5,
   "metadata": {},
   "outputs": [
    {
     "data": {
      "text/plain": [
       "(2,)"
      ]
     },
     "execution_count": 5,
     "metadata": {},
     "output_type": "execute_result"
    }
   ],
   "source": [
    "B.shape"
   ]
  },
  {
   "cell_type": "code",
   "execution_count": 6,
   "metadata": {},
   "outputs": [
    {
     "data": {
      "text/plain": [
       "array([23, 53, 83])"
      ]
     },
     "execution_count": 6,
     "metadata": {},
     "output_type": "execute_result"
    }
   ],
   "source": [
    "np.dot(A,B)"
   ]
  },
  {
   "cell_type": "markdown",
   "metadata": {},
   "source": [
    "### 3.3.3 신경망에서의 행렬 곱"
   ]
  },
  {
   "cell_type": "markdown",
   "metadata": {},
   "source": [
    "<img src=\"./image_/fig 3-14.png\" width=420>"
   ]
  },
  {
   "cell_type": "markdown",
   "metadata": {},
   "source": [
    "* 간단한 신경망 (편향과 활성화 함수를 생략하고 가중치만 가진다)\n",
    "* X, W, Y의 shape에 주의 (대응하는 차원의 원소 수가 같아야 한다)"
   ]
  },
  {
   "cell_type": "code",
   "execution_count": 11,
   "metadata": {},
   "outputs": [],
   "source": [
    "X = np.array([1,2])"
   ]
  },
  {
   "cell_type": "code",
   "execution_count": 12,
   "metadata": {},
   "outputs": [
    {
     "data": {
      "text/plain": [
       "(2,)"
      ]
     },
     "execution_count": 12,
     "metadata": {},
     "output_type": "execute_result"
    }
   ],
   "source": [
    "X.shape"
   ]
  },
  {
   "cell_type": "code",
   "execution_count": 13,
   "metadata": {},
   "outputs": [],
   "source": [
    "W = np.array([[1,3,5],[2,4,6]])"
   ]
  },
  {
   "cell_type": "code",
   "execution_count": 14,
   "metadata": {},
   "outputs": [
    {
     "name": "stdout",
     "output_type": "stream",
     "text": [
      "[[1 3 5]\n",
      " [2 4 6]]\n"
     ]
    }
   ],
   "source": [
    "print(W)"
   ]
  },
  {
   "cell_type": "code",
   "execution_count": 15,
   "metadata": {},
   "outputs": [
    {
     "data": {
      "text/plain": [
       "(2, 3)"
      ]
     },
     "execution_count": 15,
     "metadata": {},
     "output_type": "execute_result"
    }
   ],
   "source": [
    "W.shape"
   ]
  },
  {
   "cell_type": "code",
   "execution_count": 16,
   "metadata": {},
   "outputs": [],
   "source": [
    "Y = np.dot(X , W)"
   ]
  },
  {
   "cell_type": "code",
   "execution_count": 17,
   "metadata": {},
   "outputs": [
    {
     "name": "stdout",
     "output_type": "stream",
     "text": [
      "[ 5 11 17]\n"
     ]
    }
   ],
   "source": [
    "print(Y)"
   ]
  },
  {
   "cell_type": "markdown",
   "metadata": {},
   "source": [
    "--> 1 , 2    1 , 3 , 5\n",
    "\n",
    "             2 , 4 , 6"
   ]
  },
  {
   "cell_type": "markdown",
   "metadata": {},
   "source": [
    "* 다차원 배열의 스칼라곱을 구해주는 np.dot() 함수를 사용 --> 바로 Y값을 계산 가능!\n",
    "* Y의 원소가 100개든, 1000개든 한 번의 연산으로 계산할 수 있으므로, 신경망을 구현하는데 매 우 중요!"
   ]
  }
 ],
 "metadata": {
  "kernelspec": {
   "display_name": "Python 3",
   "language": "python",
   "name": "python3"
  },
  "language_info": {
   "codemirror_mode": {
    "name": "ipython",
    "version": 3
   },
   "file_extension": ".py",
   "mimetype": "text/x-python",
   "name": "python",
   "nbconvert_exporter": "python",
   "pygments_lexer": "ipython3",
   "version": "3.7.1"
  }
 },
 "nbformat": 4,
 "nbformat_minor": 2
}
